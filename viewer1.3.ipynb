{
 "cells": [
  {
   "cell_type": "code",
   "execution_count": 12,
   "metadata": {},
   "outputs": [
    {
     "name": "stdout",
     "output_type": "stream",
     "text": [
      "Using matplotlib backend: Qt5Agg\n"
     ]
    }
   ],
   "source": [
    "\n",
    "%matplotlib auto\n",
    "## TODO:\n",
    "# refactorize to make it model -view- presenter\n",
    "# pythonize slicing based on return value of spanSelector\n",
    "# make xLabel of axis2 readable always\n",
    "# add more info to show\n",
    "# plot same day rectangles differently!\n",
    "# update, linewidth, selectionColor on axis2\n",
    "# adjust colors\n",
    "# rotate labels,\n",
    "# fix labelformat\n",
    "# adjust spacing\n",
    "# generalize button layout"
   ]
  },
  {
   "cell_type": "markdown",
   "metadata": {},
   "source": [
    "todo\n",
    "\n",
    "add logic checkers"
   ]
  },
  {
   "cell_type": "code",
   "execution_count": 13,
   "metadata": {
    "collapsed": true
   },
   "outputs": [],
   "source": [
    "import os\n",
    "import inspect\n",
    "import datetime\n",
    "from datetime import date, timedelta\n",
    "import copy\n",
    "import numpy as np\n",
    "import pandas as pd\n",
    "import matplotlib.pyplot as plt\n",
    "import matplotlib.dates as mdates\n",
    "import matplotlib.gridspec as gridspec\n",
    "import matplotlib.patches as patches\n",
    "import matplotlib.ticker as ticker\n",
    "import matplotlib.dates as mdates\n",
    "from matplotlib.widgets import Button, SpanSelector\n",
    "from matplotlib.dates import num2date"
   ]
  },
  {
   "cell_type": "code",
   "execution_count": 14,
   "metadata": {
    "collapsed": true
   },
   "outputs": [],
   "source": [
    "class otpParser():\n",
    "    \n",
    "    def __init__(self):\n",
    "        self.headers = ['accountNr', 'T/J', 'sum', 'currency', 'date', 'date2', 'currentValue', 'noIdea',\n",
    "                   'noIdea2', 'comment', 'noIdea3', 'noIdea4', 'noIdea5']\n",
    "        \n",
    "    def parseFiles(self, files):\n",
    "        dataFrames = [pd.read_csv(file, header=None) for file in files]\n",
    "        mergedFrame = pd.concat(dataFrames)\n",
    "        mergedFrame.columns = self.headers                                        \n",
    "        mergedFrame = mergedFrame.reset_index(drop=True)\n",
    "        self.mergedFrame = mergedFrame.sort_values(by='date')\n",
    "        #return self.mergedFrame.head()\n",
    "\n",
    "    \n",
    "    def calculateAttributes(self):\n",
    "        \n",
    "        self.calculateDates()\n",
    "        self.separateTransactions()\n",
    "        self.timeAxis = pd.date_range(self.pandasStartDate, periods=self.timeDelta.days+1, freq='D')\n",
    "        transactions = {'expense':self.expense,'income':self.income }\n",
    "        return self.timeAxis, transactions\n",
    "\n",
    "    def printDf(self):\n",
    "        return (self.mergedFrame.head())\n",
    "    \n",
    "    def calculateDates(self):\n",
    "        \n",
    "        start = self.mergedFrame['date'].values[0]\n",
    "        end = self.mergedFrame['date'].values[-1]\n",
    "        self.pandasStartDate = \"{0}-{1}-{2}\".format(str(start)[0:4], str(start)[4:6], str(start)[6:8])\n",
    "        self.startDate = date(int(str(start)[0:4]), int(str(start)[4:6]), int(str(start)[6:8]))\n",
    "        self.endDate = date(int(str(end)[0:4]), int(str(end)[4:6]), int(str(end)[6:8]))\n",
    "        self.timeDelta = self.endDate - self.startDate\n",
    "        #print (self.startDate, self.endDate, self.timeDelta)\n",
    "        \n",
    "    def separateTransactions(self):\n",
    "\n",
    "\n",
    "        days = [int((self.startDate + timedelta(days=i)).strftime('%Y%m%d')) for i in range(self.timeDelta.days + 1)]\n",
    "        transDays = self.mergedFrame['date'].values\n",
    "        heights = self.mergedFrame['sum'].values\n",
    "        expense = [-figure if figure<0 else 0 for figure in heights]\n",
    "        income = [figure if figure>0 else 0 for figure in heights]\n",
    "        Xs = transDays\n",
    "\n",
    "        values, counts = np.unique(Xs, return_counts=True)\n",
    "        WholeY=[]\n",
    "        smallY=np.zeros_like(days)  \n",
    "        payment = np.zeros_like(days)\n",
    "\n",
    "        for freq in range(1,max(counts)+1): \n",
    "            for val, cnt in zip(values, counts):\n",
    "                if cnt >= freq:\n",
    "                    index = np.where(Xs==val)[0][freq-1]\n",
    "                    if heights[index] > 0:\n",
    "                        payment [days.index(val)] = heights[index]\n",
    "                    else:\n",
    "        #             print (days.index(val), index, val)\n",
    "                        smallY[days.index(val)] = -heights[index] # maybe transDays\n",
    "            WholeY.append(smallY)\n",
    "            smallY=np.zeros_like(days)  \n",
    "\n",
    "\n",
    "        self.expense = WholeY\n",
    "        self.income = payment\n",
    "\n",
    "        pass\n",
    "        \n",
    "    def selectMoney(self):\n",
    "        history = self.mergedFrame['sum']\n",
    "        \n",
    "    def createFigures(self):\n",
    "        self.calculateDates()\n",
    "        self.separateTransactions()\n",
    "        self.timeAxis = pd.date_range(self.pandasStartDate, periods=self.timeDelta.days+1, freq='D')\n",
    "        self.viewer = financeViewer(self.timeAxis,self.charges, self.salary)\n"
   ]
  },
  {
   "cell_type": "code",
   "execution_count": 15,
   "metadata": {
    "collapsed": true
   },
   "outputs": [],
   "source": [
    "class Presenter():\n",
    "    \n",
    "    def __init__(self, model, view, files):\n",
    "        self.model = model\n",
    "        self.view = view\n",
    "        self.files = files\n",
    "        \n",
    "        self.model.parseFiles(files)\n",
    "        #self.model.mergeDataFrames()\n",
    "        self.timeAxis, self.transactions = self.model.calculateAttributes()\n",
    "\n",
    "#         self.view.connect2presenter(self)\n",
    "    def showPlots(self):\n",
    "        self.view.showPlots(self.timeAxis, self.transactions)\n",
    "    \n",
    "    def showDataframe(self):\n",
    "        return self.model.mergedFrame\n",
    "    \n",
    "    def onResetClicked(self):\n",
    "        pass\n",
    "    \n",
    "    def onSelect(self):\n",
    "        pass"
   ]
  },
  {
   "cell_type": "code",
   "execution_count": 27,
   "metadata": {},
   "outputs": [],
   "source": [
    "RED = '#d62728'\n",
    "GREY = '#abb2b9'\n",
    "GREEN = '#196f3d'\n",
    "WHITE = ''\n",
    "BLACK = ''\n",
    "PURPLE = '#aaace2' # Color of the buttons, titles\n",
    "LIGHT_GREEN = '#a9dfbf'\n",
    "LIGHT_RED = '#ff9494'\n",
    "LIGHT_GREY = '#d5d8dc'\n",
    "width = 0.3\n",
    "WIDTH = 12\n",
    "G_RAT = (1 + 5 ** 0.5) / 2 # golden ratio\n",
    "LABEL_ROTATION = 15 # DEGREES\n",
    "DATEFORMATSTRING = '%Y-%m-%d'\n",
    "DATEFROMAT = mdates.DateFormatter(DATEFORMATSTRING)\n",
    "\n",
    "\n",
    "class financeViewer():\n",
    "    \n",
    "    def __init__(self):\n",
    "\n",
    "        self.box = dict(facecolor='blue', pad=3, alpha=0.2, boxstyle=\"Round4,pad=0.3\")\n",
    "        self.testString =\"\"\"Date: {}\n",
    "                            Sum: {} HUF\n",
    "                            Comment: {}\n",
    "                            yCoord: {}\"\"\"\n",
    "    \n",
    "    def connect2presenter(self, presenterObject):\n",
    "        self.presenter = presenterObject\n",
    "    \n",
    "    def createFigure(self):\n",
    "        print ('{} function is called'.format(inspect.stack()[0][3]))\n",
    "        self.fig = plt.figure(figsize=(WIDTH, WIDTH/G_RAT),facecolor = LIGHT_GREY)\n",
    "\n",
    "        self.gsp = gridspec.GridSpec(\n",
    "                nrows = 3, ncols = 2, wspace = 0.05, hspace = 0.45,\n",
    "                width_ratios = [G_RAT, 1], height_ratios = [(1+G_RAT)/G_RAT, G_RAT, 1])\n",
    "\n",
    "        self.ax1 = plt.subplot(self.gsp[0,:])\n",
    "        self.ax2 = plt.subplot(self.gsp[1:,0])\n",
    "        self.ax3 = plt.subplot(self.gsp[1,1])\n",
    "        self.ax4 = plt.subplot(self.gsp[2,1])\n",
    "        \n",
    "\n",
    "    def drawAxes(self):\n",
    "        print ('{} function is called'.format(inspect.stack()[0][3]))\n",
    "        for ax in [self.ax1,self.ax2,self.ax3, self.ax4]: \n",
    "            ax.set_facecolor(GREY)\n",
    "        #####BIG PLOT##\n",
    "        self.plotAx2()\n",
    "        self.plotAx1()\n",
    "        ####ZOOM PLOT##\n",
    "\n",
    "\n",
    "\n",
    "        ##info plot##\n",
    "        self.txt = self.ax3.text(0.1,0.5,'',\n",
    "        horizontalalignment='left',\n",
    "        verticalalignment='center',\n",
    "        fontsize=12, color='black',\n",
    "        wrap = True)\n",
    "        self.ax3.set_xticks([]) \n",
    "        self.ax3.set_yticks([]) \n",
    "        self.ax3.set_title('info about the transactions', bbox=self.box)\n",
    "\n",
    "        ### place of buttons##\n",
    "        self.ax4.set_xticks([]) \n",
    "        self.ax4.set_yticks([]) \n",
    "\n",
    "    def on_plot_hover(self, event):\n",
    "#         print ('{} function is called'.format(inspect.stack()[0][3]))\n",
    "        if not event.inaxes: return\n",
    "        if event.inaxes!= self.ax2: return\n",
    "\n",
    "        for idx,bar in enumerate(self.ax2.patches):\n",
    "            if bar.get_x() < event.xdata < bar.get_x() + bar.get_width():\n",
    "                if bar.get_y() < event.ydata < bar.get_y() + bar.get_height(): \n",
    "                    self.ax2.patches[idx].set_edgecolor(LIGHT_RED)\n",
    "                    date_ordinal, y = self.ax2.transData.inverted().transform([event.x, event.y])\n",
    "    \n",
    "                    # convert the numeric date into a datetime\n",
    "                    transDate = num2date(date_ordinal).strftime(DATEFORMATSTRING)\n",
    "                    pdDate = num2date(date_ordinal).strftime('%Y%m%d')\n",
    "                    print (int(pdDate),bar.get_height() )\n",
    "#                     comment = df.loc[(df['date'] == int(pdDate)) & (abs(df['sum'],)==bar.get_height()),'comment'].iloc[0]\n",
    "\n",
    "            \n",
    "            \n",
    "                    newStr = self.testString.format(transDate,int(bar.get_height()), 'comment',event.y, )\n",
    "                    self.txt.set_text(newStr)\n",
    "\n",
    "            else: \n",
    "                self.ax2.patches[idx].set_edgecolor(self.ax2.patches[idx].get_facecolor())\n",
    "            \n",
    "        self.fig.canvas.draw()\n",
    "\n",
    "    def reset_button_on_clicked(self, mouse_event):\n",
    "        \n",
    "        pass\n",
    "\n",
    "        ## redraw axis 2\n",
    "#         self.ax2.cla()\n",
    "#         self.ax2.set_title('Selected duration', bbox=self.box)\n",
    "#         self.ax2.bar(self.timeAxis, self.expense, width, color=RED)\n",
    "#         self.ax2.bar(self.timeAxis, self.income, width, color=GREEN)\n",
    "#         plt.setp( self.ax2.xaxis.get_majorticklabels(), rotation=LABEL_ROTATION )\n",
    "#         self.ax2.xaxis.set_major_formatter(DATEFROMAT)\n",
    "#         self.fig.canvas.draw()\n",
    "\n",
    "    def balanceView_button_on_clicked(self, mouse_event):\n",
    "        #print ('{} function is not implemented'.format(inspect.stack()[0][3]))\n",
    "        pass\n",
    "    def transView_button_on_clicked(self, mouse_event):\n",
    "        #print ('{} function is not implemented'.format(inspect.stack()[0][3]))\n",
    "        pass\n",
    "    def plotAx2(self, startDate=None, endDate=None):  \n",
    "        self.ax2.cla()\n",
    "        self.ax2.set_title('Selected duration', bbox=self.box)\n",
    "        \n",
    "        if StartDate:\n",
    "            zoomedTime = self.timeAxis[startDate:endDate]\n",
    "            zoomedExpense = [expense[startDate:endDate] for expense in self.expense]\n",
    "            zoomedIncome = self.income[startDate:endDate]\n",
    "        else:\n",
    "            zoomedTime = self.timeAxis\n",
    "            zoomedExpense = self.expense\n",
    "            zoomedIncome = self.income\n",
    "        self.ax2.bar(zoomedTime, zoomedIncome, color=GREEN,edgecolor='black')\n",
    "        previousBars=copy.deepcopy(zoomedIncome)\n",
    "        for expense in self.expense:\n",
    "            self.ax2.bar(self.timeAxis, expense, bottom=previousBars,color=RED, edgecolor='black')\n",
    "            previousBars+=expense\n",
    "    def plotAx1(self):\n",
    "        self.ax1.set_title('Whole duration',bbox=self.box)\n",
    "\n",
    "        self.ax1.bar(self.timeAxis, self.income, color=GREEN,edgecolor='black')\n",
    "        previousBars=copy.deepcopy(self.income)\n",
    "        for expense in self.expense:\n",
    "            self.ax1.bar(self.timeAxis,expense, bottom=previousBars,color=RED, edgecolor='black')\n",
    "            previousBars+=expense\n",
    "#         self.ax1.bar(self.timeAxis, self.expense, color=RED)\n",
    "        \n",
    "#         label = self.ax1.set_xlabel('Xlabel', fontsize = 9)\n",
    "#         self.ax1.xaxis.set_label_coords(1.05, -0.025)\n",
    "        self.span = SpanSelector(self.ax1, self.onselect, 'horizontal', \n",
    "                   rectprops=dict(alpha=0.3, facecolor=RED))\n",
    "\n",
    "    def onselect(self, xmin, xmax):\n",
    "\n",
    "        dayMin, dayMax = sorted((int(xmin-0.5), int(xmax+0.5)))\n",
    "        ##xmin, xmax is days from zero, if Xaxis is pandas daterange\n",
    "\n",
    "        yearZero = datetime.datetime.strptime('0001/01/01', \"%Y/%m/%d\")\n",
    "        startDate = yearZero + timedelta(days=dayMin)\n",
    "        endDate = yearZero + timedelta(days=dayMax)\n",
    "        st=str(startDate)[:10]\n",
    "        nd=str(endDate)[:10]\n",
    "        stIdx, = np.where( self.timeAxis.values==np.datetime64(st) )\n",
    "        endIdx, = np.where( self.timeAxis.values==np.datetime64(nd) )\n",
    "        stIdx , endIdx = stIdx[0], endIdx[0]\n",
    "#         zoomedTime = self.timeAxis[stIdx:endIdx]\n",
    "#         zoomedCharges = self.expense[stIdx:endIdx]\n",
    "#         zoomedSalary = self.income[stIdx:endIdx]\n",
    "        self.plotAx2(stIdx, endIdx)\n",
    "\n",
    "#         self.ax2.set_title('Selected duration', bbox=self.box)\n",
    "#         self.ax2.bar(zoomedTime, zoomedCharges, width, color=RED)\n",
    "#         self.ax2.bar(zoomedTime, zoomedSalary , width, color=GREEN)\n",
    "        plt.setp( self.ax2.xaxis.get_majorticklabels(), rotation=LABEL_ROTATION )\n",
    "        self.ax2.xaxis.set_major_formatter(DATEFROMAT)\n",
    "        self.ax2.xaxis.set_major_locator(DayLocator())\n",
    "\n",
    "        self.fig.canvas.draw()\n",
    "        \n",
    "    def makeButtons(self):\n",
    "\n",
    "        pos = self.ax4.get_position() # get the  position of axis ,which contains the buttons \n",
    "        rowNr, colNr = 1,3\n",
    "        buttonwidth = 0.1\n",
    "        buttonheight = 0.07\n",
    "        Vspace = (pos.width - colNr*buttonwidth)/(colNr+1)\n",
    "        Hspace = (pos.height - rowNr*buttonheight)/(rowNr+1)\n",
    "        \n",
    "        reset_button_ax = self.fig.add_axes([pos.x0+Vspace, pos.y0+Hspace, buttonwidth, buttonheight])\n",
    "        transactionViewButon_ax = self.fig.add_axes([pos.x0+2*Vspace+buttonwidth, pos.y0+Hspace, buttonwidth, buttonheight])\n",
    "        balanceViewButton_ax = self.fig.add_axes([pos.x0+3*Vspace+2*buttonwidth, pos.y0+Hspace, buttonwidth, buttonheight])\n",
    "\n",
    "        self.reset_button = Button(reset_button_ax, 'Reset', color=PURPLE, hovercolor=RED)\n",
    "        self.transactionViewButton = Button(transactionViewButon_ax, 'Transactions', color=PURPLE, hovercolor=RED)\n",
    "        self.balanceViewButton = Button(balanceViewButton_ax, 'Balance', color=PURPLE, hovercolor=RED)\n",
    "    \n",
    "    def connectButtons(self):\n",
    "\n",
    "        self.reset_button.on_clicked(self.reset_button_on_clicked)\n",
    "        self.transactionViewButton.on_clicked(self.transView_button_on_clicked)\n",
    "        self.balanceViewButton.on_clicked(self.balanceView_button_on_clicked)\n",
    "\n",
    "    \n",
    "    def showPlots(self, timeAxis, transactions):\n",
    "        self.timeAxis = timeAxis\n",
    "        self.income = transactions['income']\n",
    "        self.expense = transactions['expense']\n",
    "        self.createFigure()\n",
    "        self.drawAxes()\n",
    "\n",
    "        print ('{} function is called'.format(inspect.stack()[0][3]))\n",
    "        self.fig.canvas.mpl_connect('motion_notify_event', self.on_plot_hover) \n",
    "        self.fig.subplots_adjust(left=0.06, bottom=0.07, right=0.97, top=0.95)\n",
    "        self.makeButtons()\n",
    "        self.connectButtons()\n",
    "        plt.setp( self.ax1.xaxis.get_majorticklabels(), rotation=LABEL_ROTATION )\n",
    "        plt.setp( self.ax2.xaxis.get_majorticklabels(), rotation=LABEL_ROTATION )\n",
    "        self.ax1.xaxis.set_major_formatter(DATEFROMAT)\n",
    "        self.ax2.xaxis.set_major_formatter(DATEFROMAT)\n",
    "        plt.show()"
   ]
  },
  {
   "cell_type": "code",
   "execution_count": 28,
   "metadata": {},
   "outputs": [
    {
     "name": "stdout",
     "output_type": "stream",
     "text": [
      "createFigure function is called\n",
      "drawAxes function is called\n",
      "showPlots function is called\n"
     ]
    }
   ],
   "source": [
    "# myApp.timeAxis\n",
    "# myApp.transactions\n",
    "\n",
    "viewer = financeViewer()\n",
    "viewer.showPlots(myApp.timeAxis ,myApp.transactions)\n"
   ]
  },
  {
   "cell_type": "code",
   "execution_count": 21,
   "metadata": {},
   "outputs": [
    {
     "name": "stdout",
     "output_type": "stream",
     "text": [
      "DatetimeIndex(['2017-05-01', '2017-05-02', '2017-05-03', '2017-05-04',\n",
      "               '2017-05-05', '2017-05-06', '2017-05-07', '2017-05-08',\n",
      "               '2017-05-09', '2017-05-10', '2017-05-11', '2017-05-12',\n",
      "               '2017-05-13', '2017-05-14', '2017-05-15', '2017-05-16',\n",
      "               '2017-05-17', '2017-05-18', '2017-05-19', '2017-05-20',\n",
      "               '2017-05-21', '2017-05-22', '2017-05-23', '2017-05-24',\n",
      "               '2017-05-25', '2017-05-26', '2017-05-27', '2017-05-28',\n",
      "               '2017-05-29', '2017-05-30', '2017-05-31', '2017-06-01',\n",
      "               '2017-06-02', '2017-06-03', '2017-06-04', '2017-06-05',\n",
      "               '2017-06-06', '2017-06-07', '2017-06-08', '2017-06-09',\n",
      "               '2017-06-10', '2017-06-11', '2017-06-12', '2017-06-13',\n",
      "               '2017-06-14', '2017-06-15', '2017-06-16', '2017-06-17',\n",
      "               '2017-06-18', '2017-06-19', '2017-06-20', '2017-06-21',\n",
      "               '2017-06-22', '2017-06-23', '2017-06-24', '2017-06-25',\n",
      "               '2017-06-26', '2017-06-27', '2017-06-28'],\n",
      "              dtype='datetime64[ns]', freq='D')\n",
      "{'expense': [array([  166,  9500,     0,  2031,     0,     0,     0,   475,     0,\n",
      "        2600,     0,     0,     0,     0,  8000,     0,     0,   604,\n",
      "        1080,     0,     0,    40,  9000,  1080,   855,  3294,     0,\n",
      "           0,  1125,  1125,     0,   166,  9500,     0,     0,     0,\n",
      "         550, 17079,     0,   600,     0,     0, 14000,     0,  1746,\n",
      "           0,     0,     0,     0, 40763,  1319,     0,     0,  1686,\n",
      "           0,     0,  9000,  1125,  4400]), array([    0,  1080,     0,     0,     0,     0,     0,  2519,     0,\n",
      "        1080,     0,     0,     0,     0,  3600,     0,     0,     0,\n",
      "           0,     0,     0,    40,     0,     0,  1080,     0,     0,\n",
      "           0,  3244,     0,     0,   855,   855,     0,     0,     0,\n",
      "         283, 16769,     0,  1237,     0,     0,     0,     0,     0,\n",
      "           0,     0,     0,     0,     0,  1080,     0,     0,  1080,\n",
      "           0,     0,     0,     0,     0]), array([    0,     0,     0,     0,     0,     0,     0,  1399,     0,\n",
      "           0,     0,     0,     0,     0,     0,     0,     0,     0,\n",
      "           0,     0,     0,     0,     0,     0,     0,     0,     0,\n",
      "           0,     0,     0,     0,     0,  1990,     0,     0,     0,\n",
      "         311, 17079,     0,     0,     0,     0,     0,     0,     0,\n",
      "           0,     0,     0,     0,     0, 17269,     0,     0,     0,\n",
      "           0,     0,     0,     0,     0]), array([    0,     0,     0,     0,     0,     0,     0,     0,     0,\n",
      "           0,     0,     0,     0,     0,     0,     0,     0,     0,\n",
      "           0,     0,     0,     0,     0,     0,     0,     0,     0,\n",
      "           0,     0,     0,     0,     0,   720,     0,     0,     0,\n",
      "         990, 17079,     0,     0,     0,     0,     0,     0,     0,\n",
      "           0,     0,     0,     0,     0,     0,     0,     0,     0,\n",
      "           0,     0,     0,     0,     0]), array([    0,     0,     0,     0,     0,     0,     0,     0,     0,\n",
      "           0,     0,     0,     0,     0,     0,     0,     0,     0,\n",
      "           0,     0,     0,     0,     0,     0,     0,     0,     0,\n",
      "           0,     0,     0,     0,     0,     0,     0,     0,     0,\n",
      "           0, 17079,     0,     0,     0,     0,     0,     0,     0,\n",
      "           0,     0,     0,     0,     0,     0,     0,     0,     0,\n",
      "           0,     0,     0,     0,     0])], 'income': array([     0,      0,      0, 503647,      0,      0,      0,      0,\n",
      "            0,      0,      0,      0,      0,      0,      0,      0,\n",
      "            0,      0,      0,      0,      0,      0,      0,      0,\n",
      "            0,      0,      0,      0,      0,      0,      0,      0,\n",
      "            0,      0,      0,      0, 302003,      0,      0,      0,\n",
      "            0,      0,      0,      0,      0,      0,      0,      0,\n",
      "            0,      0,      0,      0,      0,      0,      0,      0,\n",
      "            0,      0,      0])}\n"
     ]
    }
   ],
   "source": [
    "print(myApp.timeAxis)\n",
    "print (myApp.transactions)"
   ]
  },
  {
   "cell_type": "code",
   "execution_count": null,
   "metadata": {
    "collapsed": true
   },
   "outputs": [],
   "source": [
    "viewer."
   ]
  },
  {
   "cell_type": "code",
   "execution_count": 20,
   "metadata": {},
   "outputs": [],
   "source": [
    "files =  [file for file in os.listdir() if file.lower().endswith('csv')]\n",
    "model = otpParser()\n",
    "view = financeViewer()\n",
    "\n",
    "\n",
    "myApp = Presenter(model, view, files)"
   ]
  },
  {
   "cell_type": "code",
   "execution_count": 9,
   "metadata": {
    "scrolled": true
   },
   "outputs": [
    {
     "name": "stdout",
     "output_type": "stream",
     "text": [
      "createFigure function is called\n",
      "drawAxes function is called\n",
      "showPlots function is called\n"
     ]
    }
   ],
   "source": [
    "myApp.showPlots()"
   ]
  },
  {
   "cell_type": "code",
   "execution_count": null,
   "metadata": {
    "collapsed": true
   },
   "outputs": [],
   "source": [
    "a=myApp.showDataframe()\n",
    "df=a"
   ]
  },
  {
   "cell_type": "code",
   "execution_count": null,
   "metadata": {},
   "outputs": [],
   "source": [
    "a.head(2)"
   ]
  },
  {
   "cell_type": "code",
   "execution_count": null,
   "metadata": {},
   "outputs": [],
   "source": [
    "start = df['date'].values[0]\n",
    "end = df['date'].values[-1]\n",
    "pandasStartDate = \"{0}-{1}-{2}\".format(str(start)[0:4], str(start)[4:6], str(start)[6:8])\n",
    "startDate = date(int(str(start)[0:4]), int(str(start)[4:6]), int(str(start)[6:8]))\n",
    "endDate = date(int(str(end)[0:4]), int(str(end)[4:6]), int(str(end)[6:8]))\n",
    "timeDelta = endDate - startDate\n",
    "\n",
    "days = [int((startDate + timedelta(days=i)).strftime('%Y%m%d')) for i in range(timeDelta.days + 1)]\n",
    "transDays = df['date'].values\n",
    "heights = df['sum'].values\n",
    "expense = [-figure if figure<0 else 0 for figure in heights]\n",
    "income = [figure if figure>0 else 0 for figure in heights]\n",
    "Xs = transDays\n",
    "\n",
    "values, counts = np.unique(Xs, return_counts=True)\n",
    "WholeY=[]\n",
    "smallY=np.zeros_like(days)  \n",
    "payment = np.zeros_like(days)\n",
    "\n",
    "for freq in range(1,max(counts)+1): \n",
    "    for val, cnt in zip(values, counts):\n",
    "        if cnt >= freq:\n",
    "            index = np.where(Xs==val)[0][freq-1]\n",
    "            if heights[index] > 0:\n",
    "                payment [days.index(val)] = heights[index]\n",
    "            else:\n",
    "#             print (days.index(val), index, val)\n",
    "                smallY[days.index(val)] = -heights[index] # maybe transDays\n",
    "    WholeY.append(smallY)\n",
    "    smallY=np.zeros_like(days)  \n",
    "\n",
    "    \n",
    "fig, ax = plt.subplots()\n",
    "## stack them on each other automatically, create init bottom:\n",
    "# previousBars=np.zeros_like(smallY)\n",
    "previousBars=ax.bar(np.arange(len(smallY)),payment, color='green', edgecolor='black')\n",
    "previousBars=payment\n",
    "for smallY in WholeY:\n",
    "    currentBars=ax.bar(np.arange(len(smallY)),smallY, bottom=previousBars,color='red', edgecolor='black')\n",
    "    previousBars+=smallY\n",
    "    \n",
    "\n",
    "plt.show()\n"
   ]
  },
  {
   "cell_type": "code",
   "execution_count": null,
   "metadata": {
    "collapsed": true
   },
   "outputs": [],
   "source": [
    "import matplotlib.pyplot as plt\n",
    "import numpy as np\n",
    "import pandas as pd\n",
    "\n",
    "df = pd.DataFrame({'x': np.arange(25), 'y': np.random.normal(0,2500,25)})\n",
    "fig, ax = plt.subplots()\n",
    "\n",
    "ax.scatter(df.x, df.y, c=np.sign(df.y), cmap=\"bwr\")\n",
    "\n",
    "plt.show()"
   ]
  },
  {
   "cell_type": "code",
   "execution_count": null,
   "metadata": {
    "collapsed": true
   },
   "outputs": [],
   "source": []
  },
  {
   "cell_type": "code",
   "execution_count": null,
   "metadata": {},
   "outputs": [],
   "source": [
    "print (values, counts, max(counts))\n",
    "print (transDays, len(transDays))\n",
    "print (days, len(days))\n",
    "print (heights, len(heights))"
   ]
  },
  {
   "cell_type": "code",
   "execution_count": null,
   "metadata": {
    "collapsed": true
   },
   "outputs": [],
   "source": []
  },
  {
   "cell_type": "code",
   "execution_count": null,
   "metadata": {},
   "outputs": [],
   "source": [
    "Xs=np.array([0,1,1,1,3,4,4,6,6,6,7,8,9])\n",
    "heights = np.array([10,9,8,5,7,6,4,3,2,1,1,12,1])\n",
    "values, counts = np.unique(ys, return_counts=True)\n",
    "print (values, counts, max(counts))"
   ]
  },
  {
   "cell_type": "code",
   "execution_count": null,
   "metadata": {},
   "outputs": [],
   "source": [
    "WholeY=[]\n",
    "smallY=np.zeros(max(ys)+1)  \n"
   ]
  },
  {
   "cell_type": "code",
   "execution_count": null,
   "metadata": {},
   "outputs": [],
   "source": [
    "\n",
    "for freq in range(1,max(counts)+1): \n",
    "\n",
    "    for val, cnt in zip(values, counts):\n",
    "        \n",
    "        if cnt >= freq:\n",
    "\n",
    "            index = np.where(ys==val)[0][freq-1]\n",
    "            smallY[val] = heights[index]\n",
    "    WholeY.append(smallY)\n",
    "    smallY=np.zeros(max(Xs)+1)  "
   ]
  },
  {
   "cell_type": "code",
   "execution_count": null,
   "metadata": {},
   "outputs": [],
   "source": [
    "WholeY"
   ]
  },
  {
   "cell_type": "code",
   "execution_count": null,
   "metadata": {},
   "outputs": [],
   "source": [
    "fig, ax = plt.subplots()\n",
    "## stack them on each other automatically, create init bottom:\n",
    "previousBars=np.zeros_like(smallY)\n",
    "for smallY in WholeY:\n",
    "    currentBars=ax.bar(np.arange(len(smallY)),smallY, bottom=previousBars)\n",
    "    previousBars=smallY\n",
    "plt.show()"
   ]
  },
  {
   "cell_type": "code",
   "execution_count": null,
   "metadata": {
    "collapsed": true
   },
   "outputs": [],
   "source": [
    "ax.bar"
   ]
  },
  {
   "cell_type": "code",
   "execution_count": null,
   "metadata": {},
   "outputs": [],
   "source": [
    "import numpy as np\n",
    "import matplotlib.pyplot as plt\n",
    "Xs=np.array([0,1,1,1,3,4,4,6,6,6,7,8,9])\n",
    "heights = np.array([10,9,8,5,7,6,4,3,2,1,1,12,1])\n",
    "values, counts = np.unique(indexes, return_counts=True)\n",
    "print (values, counts, max(counts))\n",
    "\n",
    "WholeY=[]\n",
    "smallY=np.zeros(max(Xs)+1)  \n",
    "\n",
    "for freq in range(1,max(counts)+1): \n",
    "    for val, cnt in zip(values, counts):\n",
    "        if cnt >= freq:\n",
    "            index = np.where(ys==val)[0][freq-1]\n",
    "            smallY[val] = heights[index]\n",
    "    WholeY.append(smallY)\n",
    "    smallY=np.zeros(max(Xs)+1) \n",
    "\n",
    "fig, ax = plt.subplots()\n",
    "## stack them on each other automatically, create init bottom:\n",
    "previousBars=np.zeros_like(smallY)\n",
    "for smallY in WholeY:\n",
    "    currentBars=ax.bar(np.arange(len(smallY)),smallY, bottom=previousBars)\n",
    "    previousBars=smallY\n",
    "plt.show()"
   ]
  },
  {
   "cell_type": "code",
   "execution_count": null,
   "metadata": {},
   "outputs": [],
   "source": [
    "ls = [(len(df.loc[(df[\"date\"] == datum), \"sum\"].values),datum ) for datum in np.unique(df['date'].values)]\n",
    "print (ls)"
   ]
  },
  {
   "cell_type": "code",
   "execution_count": null,
   "metadata": {
    "collapsed": true
   },
   "outputs": [],
   "source": [
    "ys = [(5,3),3,2,4,6]"
   ]
  },
  {
   "cell_type": "code",
   "execution_count": null,
   "metadata": {},
   "outputs": [],
   "source": [
    "xs = np.arange(len(ys))\n",
    "xs"
   ]
  },
  {
   "cell_type": "code",
   "execution_count": null,
   "metadata": {},
   "outputs": [],
   "source": [
    "fig, ax = plt.subplots()\n",
    "ax.bar(xs,ys)"
   ]
  },
  {
   "cell_type": "code",
   "execution_count": null,
   "metadata": {
    "collapsed": true
   },
   "outputs": [],
   "source": [
    "ax.bar(xs,ys)"
   ]
  },
  {
   "cell_type": "code",
   "execution_count": null,
   "metadata": {
    "collapsed": true
   },
   "outputs": [],
   "source": [
    "date1 = datetime.datetime(2000, 3, 2)\n",
    "date2 = datetime.datetime(2000, 3, 6)\n",
    "delta = datetime.timedelta(hours=6)\n",
    "dates = drange(date1, date2, delta)\n",
    "\n",
    "y = arange(len(dates)*1.0)\n",
    "\n",
    "fig, ax = plt.subplots()\n",
    "ax.plot_date(dates, y*y)\n"
   ]
  },
  {
   "cell_type": "code",
   "execution_count": null,
   "metadata": {
    "collapsed": true
   },
   "outputs": [],
   "source": []
  },
  {
   "cell_type": "code",
   "execution_count": null,
   "metadata": {},
   "outputs": [],
   "source": [
    "print (df.loc[(df['date'] == 20170502) & (abs(df['sum'],)==1080),'comment'].iloc[0])\n",
    "print (df.loc[(df['date'] == 20170502) & (abs(df['sum'],)==9500),'comment'].iloc[0])\n"
   ]
  },
  {
   "cell_type": "code",
   "execution_count": null,
   "metadata": {
    "collapsed": true
   },
   "outputs": [],
   "source": [
    "(df['gender'] == 'male') & (df['pet1'] == df['pet2'] )"
   ]
  },
  {
   "cell_type": "code",
   "execution_count": null,
   "metadata": {},
   "outputs": [],
   "source": [
    "print (a['currency'].mode()[0])"
   ]
  },
  {
   "cell_type": "code",
   "execution_count": null,
   "metadata": {},
   "outputs": [],
   "source": [
    "# View test:\n",
    "rangeD=22\n",
    "datAxis = pd.date_range(\"1986-01-02\", periods=rangeD, freq='D')\n",
    "viewer = financeViewer()\n",
    "viewer.showPlots(datAxis ,{'expense':np.random.rand(rangeD)*40000,'income':np.random.rand(rangeD)*40000 })"
   ]
  },
  {
   "cell_type": "code",
   "execution_count": null,
   "metadata": {
    "collapsed": true
   },
   "outputs": [],
   "source": []
  },
  {
   "cell_type": "code",
   "execution_count": null,
   "metadata": {
    "collapsed": true
   },
   "outputs": [],
   "source": [
    "import datetime\n",
    "import matplotlib.pyplot as plt\n",
    "from matplotlib.dates import DayLocator, HourLocator, DateFormatter, drange\n",
    "from numpy import arange\n",
    "\n",
    "date1 = datetime.datetime(2000, 3, 2)\n",
    "date2 = datetime.datetime(2000, 3, 6)\n",
    "delta = datetime.timedelta(hours=6)\n",
    "dates = drange(date1, date2, delta)\n",
    "\n",
    "y = arange(len(dates)*1.0)\n",
    "\n",
    "fig, ax = plt.subplots()\n",
    "ax.plot_date(dates, y*y)\n",
    "\n",
    "# this is superfluous, since the autoscaler should get it right, but\n",
    "# use date2num and num2date to convert between dates and floats if\n",
    "# you want; both date2num and num2date convert an instance or sequence\n",
    "ax.set_xlim(dates[0], dates[-1])\n",
    "\n",
    "# The hour locator takes the hour or sequence of hours you want to\n",
    "# tick, not the base multiple\n",
    "\n",
    "ax.xaxis.set_major_locator(DayLocator())\n",
    "ax.xaxis.set_minor_locator(HourLocator(arange(0, 25, 6)))\n",
    "ax.xaxis.set_major_formatter(DateFormatter('%Y-%m-%d'))\n",
    "\n",
    "ax.fmt_xdata = DateFormatter('%Y-%m-%d %H:%M:%S')\n",
    "# fig.autofmt_xdate()\n",
    "\n",
    "plt.show()"
   ]
  },
  {
   "cell_type": "code",
   "execution_count": null,
   "metadata": {
    "collapsed": true
   },
   "outputs": [],
   "source": []
  },
  {
   "cell_type": "code",
   "execution_count": null,
   "metadata": {
    "collapsed": true,
    "scrolled": false
   },
   "outputs": [],
   "source": [
    "fig, ax = plt.subplots()\n",
    "datAxis = pd.date_range(\"1996-01-02\", periods=rangeD, freq='D')\n",
    "ax.plot(datAxis, np.random.rand(rangeD))\n",
    "def on_move(event):\n",
    "    ax = event.inaxes\n",
    "    if ax is not None:\n",
    "        # convert x y device coordinates to axes data coordinates\n",
    "        date_ordinal, y = ax.transData.inverted().transform([event.x, event.y])\n",
    "    \n",
    "        # convert the numeric date into a datetime\n",
    "        date = num2date(date_ordinal)\n",
    "        print (event.x,event.y, date.strftime('%Y'))\n",
    "\n",
    "\n",
    "on_move_id = fig.canvas.mpl_connect('motion_notify_event', on_move)\n",
    "lambda pos: mdates.num2date(pos)\n",
    "#plt.show()"
   ]
  },
  {
   "cell_type": "code",
   "execution_count": null,
   "metadata": {
    "collapsed": true
   },
   "outputs": [],
   "source": [
    "def on_move(event):\n",
    "    ax = event.inaxes\n",
    "    if ax is not None:\n",
    "        # convert x y device coordinates to axes data coordinates\n",
    "        date_ordinal, y = ax.transData.inverted().transform([event.x, event.y])\n",
    "\n",
    "        # convert the numeric date into a datetime\n",
    "        date = num2date(date_ordinal)\n",
    "\n",
    "        # sort the quotes by their distance (in time) from the mouse position\n",
    "        def sorter(quote):\n",
    "            return abs(quote[0] - date_ordinal)\n",
    "        quotes.sort(key=sorter)\n",
    "\n",
    "        print 'on date %s the nearest 3 openings were %s at %s respectively' % \\\n",
    "                        (date, \n",
    "                         ', '.join([str(quote[1]) for quote in quotes[:3]]),\n",
    "                         ', '.join([str(num2date(quote[0])) for quote in quotes[:3]]))\n",
    "\n",
    "\n",
    "on_move_id = fig.canvas.mpl_connect('motion_notify_event', on_move)\n"
   ]
  }
 ],
 "metadata": {
  "kernelspec": {
   "display_name": "Python [default]",
   "language": "python",
   "name": "python3"
  },
  "language_info": {
   "codemirror_mode": {
    "name": "ipython",
    "version": 3
   },
   "file_extension": ".py",
   "mimetype": "text/x-python",
   "name": "python",
   "nbconvert_exporter": "python",
   "pygments_lexer": "ipython3",
   "version": "3.6.0"
  }
 },
 "nbformat": 4,
 "nbformat_minor": 2
}
