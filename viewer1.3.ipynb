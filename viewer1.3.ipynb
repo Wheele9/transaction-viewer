{
 "cells": [
  {
   "cell_type": "code",
   "execution_count": null,
   "metadata": {
    "collapsed": false
   },
   "outputs": [],
   "source": [
    "\n",
    "%matplotlib auto\n"
   ]
  },
  {
   "cell_type": "code",
   "execution_count": 2,
   "metadata": {
    "collapsed": false
   },
   "outputs": [],
   "source": [
    "import os\n",
    "import inspect\n",
    "import datetime\n",
    "from datetime import date, timedelta\n",
    "\n",
    "import numpy as np\n",
    "import pandas as pd\n",
    "import matplotlib.pyplot as plt\n",
    "import matplotlib.dates as mdates\n",
    "import matplotlib.gridspec as gridspec\n",
    "import matplotlib.patches as patches\n",
    "import matplotlib.ticker as ticker\n",
    "import matplotlib.dates as mdates\n",
    "from matplotlib.widgets import Button, SpanSelector"
   ]
  },
  {
   "cell_type": "code",
   "execution_count": null,
   "metadata": {
    "collapsed": true
   },
   "outputs": [],
   "source": [
    "class otpParser():\n",
    "    \n",
    "    def __init__(self):\n",
    "        self.headers = ['accountNr', 'T/J', 'sum', 'currency', 'date', 'date2', 'currentValue', 'noIdea',\n",
    "                   'noIdea2', 'comment', 'noIdea3', 'noIdea4', 'noIdea5']\n",
    "        \n",
    "    def parseFiles(self, files):\n",
    "        dataFrames = [pd.read_csv(file, header=None) for file in files]\n",
    "        mergedFrame = pd.concat(dataFrames)\n",
    "        mergedFrame.columns = self.headers                                        \n",
    "        mergedFrame = mergedFrame.reset_index(drop=True)\n",
    "        self.mergedFrame = mergedFrame.sort_values(by='date')\n",
    "        #return self.mergedFrame.head()\n",
    "\n",
    "    \n",
    "    def calculateAttributes(self):\n",
    "        \n",
    "        self.calculateDates()\n",
    "        self.separateTransactions()\n",
    "        self.timeAxis = pd.date_range(self.pandasStartDate, periods=self.timeDelta.days+1, freq='D')\n",
    "#         {'expense':self.expense,'income':np.random.rand(rangeD) }\n",
    "        transactions = {'expense':self.expense,'income':self.income }\n",
    "        return self.timeAxis, transactions\n",
    "\n",
    "        \n",
    "    def printDf(self):\n",
    "        return (self.mergedFrame.head())\n",
    "    \n",
    "    def calculateDates(self):\n",
    "        \n",
    "        start = self.mergedFrame['date'].values[0]\n",
    "        end = self.mergedFrame['date'].values[-1]\n",
    "        self.pandasStartDate = \"{0}-{1}-{2}\".format(str(start)[0:4], str(start)[4:6], str(start)[6:8])\n",
    "        self.startDate = date(int(str(start)[0:4]), int(str(start)[4:6]), int(str(start)[6:8]))\n",
    "        self.endDate = date(int(str(end)[0:4]), int(str(end)[4:6]), int(str(end)[6:8]))\n",
    "        self.timeDelta = self.endDate - self.startDate\n",
    "        #print (self.startDate, self.endDate, self.timeDelta)\n",
    "        \n",
    "    def separateTransactions(self):\n",
    "        days = [int((self.startDate + timedelta(days=i)).strftime('%Y%m%d')) for i in range(self.timeDelta.days + 1)]\n",
    "        financeAxis = np.ones(len(days))\n",
    "        for idx, day in enumerate(days):\n",
    "\n",
    "            financeAxis[idx] = self.mergedFrame.loc[self.mergedFrame['date']==day, 'sum'].sum()\n",
    "\n",
    "        self.expense = [-figure if figure<0 else 0 for figure in financeAxis]\n",
    "        self.income = [figure if figure>0 else 0 for figure in financeAxis]\n",
    "\n",
    "        pass\n",
    "        \n",
    "    def selectMoney(self):\n",
    "        history = self.mergedFrame['sum']\n",
    "        \n",
    "    def createFigures(self):\n",
    "        self.calculateDates()\n",
    "        self.separateTransactions()\n",
    "        self.timeAxis = pd.date_range(self.pandasStartDate, periods=self.timeDelta.days+1, freq='D')\n",
    "        self.viewer = financeViewer(self.timeAxis,self.charges, self.salary)\n"
   ]
  },
  {
   "cell_type": "code",
   "execution_count": null,
   "metadata": {
    "collapsed": true
   },
   "outputs": [],
   "source": [
    "class Presenter():\n",
    "    \n",
    "    def __init__(self, model, view, files):\n",
    "        self.model = model\n",
    "        self.view = view\n",
    "        self.files = files\n",
    "        \n",
    "        self.model.parseFiles(files)\n",
    "        #self.model.mergeDataFrames()\n",
    "        self.timeAxis, self.transactions = self.model.calculateAttributes()\n",
    "\n",
    "    def showUp(self):\n",
    "        self.view.showPlots(self.timeAxis, self.transactions)\n",
    "    \n",
    "    def onResetClicked(self):\n",
    "        pass\n",
    "    \n",
    "    def onSelect(self):\n",
    "        pass"
   ]
  },
  {
   "cell_type": "code",
   "execution_count": null,
   "metadata": {
    "collapsed": false
   },
   "outputs": [],
   "source": [
    "files =  [file for file in os.listdir() if file.lower().endswith('csv')]\n",
    "model = otpParser()\n",
    "view = financeViewer()\n",
    "\n",
    "\n",
    "myApp = Presenter(model, view, files)"
   ]
  },
  {
   "cell_type": "code",
   "execution_count": null,
   "metadata": {
    "collapsed": false
   },
   "outputs": [],
   "source": [
    "myApp.showUp()"
   ]
  },
  {
   "cell_type": "code",
   "execution_count": null,
   "metadata": {
    "collapsed": false
   },
   "outputs": [],
   "source": [
    "RED = '#d62728'\n",
    "GREY = '#abb2b9'\n",
    "GREEN = '#196f3d'\n",
    "WHITE = ''\n",
    "BLACK = ''\n",
    "PURPLE = '#aaace2' # Color of the buttons, titles\n",
    "LIGHT_GREEN = '#a9dfbf'\n",
    "LIGHT_RED = '#ff9494'\n",
    "LIGHT_GREY = '#d5d8dc'\n",
    "width = 0.3\n",
    "WIDTH = 12\n",
    "G_RAT = (1 + 5 ** 0.5) / 2 # golden ratio\n",
    "LABEL_ROTATION = 15 # DEGREES\n",
    "DATEFROMAT = mdates.DateFormatter('%Y-%m-%d')\n",
    "\n",
    "## TODO:\n",
    "# refactorize to make it model -view- presenter\n",
    "# pythonize slicing based on return value of spanSelector\n",
    "# make xLabel of axis2 readable always\n",
    "# add more info to show\n",
    "# update, linewidth, selectionColor on axis2\n",
    "# adjust colors\n",
    "# rotate labels,\n",
    "# fix labelformat\n",
    "# adjust spacing\n",
    "# generalize button layout\n",
    "class financeViewer():\n",
    "    \n",
    "    def __init__(self):\n",
    "\n",
    "        self.box = dict(facecolor='blue', pad=3, alpha=0.2, boxstyle=\"Round4,pad=0.3\")\n",
    "        self.testString =\"\"\"Date: {}\n",
    "                            Sum: {} HUF\n",
    "                            Comment:\n",
    "                            Account:\n",
    "                            xCoord: {}\n",
    "                            yCoord: {}\"\"\"\n",
    "\n",
    "    def createFigure(self):\n",
    "        print ('{} function is called'.format(inspect.stack()[0][3]))\n",
    "        self.fig = plt.figure(figsize=(WIDTH, WIDTH/G_RAT),facecolor = LIGHT_GREY)\n",
    "\n",
    "        self.gsp = gridspec.GridSpec(\n",
    "                nrows = 3, ncols = 2, wspace = 0.05, hspace = 0.45,\n",
    "                width_ratios = [G_RAT, 1], height_ratios = [(1+G_RAT)/G_RAT, G_RAT, 1])\n",
    "\n",
    "        self.ax1 = plt.subplot(self.gsp[0,:])\n",
    "        self.ax2 = plt.subplot(self.gsp[1:,0])\n",
    "        self.ax3 = plt.subplot(self.gsp[1,1])\n",
    "        self.ax4 = plt.subplot(self.gsp[2,1])\n",
    "        \n",
    "\n",
    "    def drawAxes(self):\n",
    "        print ('{} function is called'.format(inspect.stack()[0][3]))\n",
    "        for ax in [self.ax1,self.ax2,self.ax3, self.ax4]: \n",
    "            ax.set_facecolor(GREY)\n",
    "        #####BIG PLOT##\n",
    "        self.ax1.set_title('Whole duration',bbox=self.box)\n",
    "        self.ax1.bar(self.timeAxis, self.expense, color=RED)\n",
    "        self.ax1.bar(self.timeAxis, self.income, color=GREEN)\n",
    "        \n",
    "        self.span = SpanSelector(self.ax1, self.onselect, 'horizontal', \n",
    "                   rectprops=dict(alpha=0.3, facecolor=RED))\n",
    "        \n",
    "        ####ZOOM PLOT##\n",
    "        self.ax2.set_title('Selected duration', bbox=self.box)\n",
    "        self.ax2.bar(self.timeAxis, self.expense, width, color=RED)\n",
    "        self.ax2.bar(self.timeAxis, self.income , width, color=GREEN)\n",
    "\n",
    "        ##info plot##\n",
    "        self.txt = self.ax3.text(0.1,0.5,'',\n",
    "        horizontalalignment='left',\n",
    "        verticalalignment='center',\n",
    "        fontsize=12, color='black',\n",
    "        wrap = True)\n",
    "        self.ax3.set_xticks([]) \n",
    "        self.ax3.set_yticks([]) \n",
    "        self.ax3.set_title('info about the transactions', bbox=self.box)\n",
    "\n",
    "        ### place of buttons##\n",
    "        self.ax4.set_xticks([]) \n",
    "        self.ax4.set_yticks([]) \n",
    "\n",
    "    def on_plot_hover(self, event):\n",
    "#         print ('{} function is called'.format(inspect.stack()[0][3]))\n",
    "        if not event.inaxes: return\n",
    "        if event.inaxes!= self.ax2: return\n",
    "\n",
    "        for idx,bar in enumerate(self.ax2.patches):\n",
    "            if bar.get_x() < event.xdata < bar.get_x() + bar.get_width():\n",
    "                if bar.get_y() < event.ydata < bar.get_y() + bar.get_height(): \n",
    "                    self.ax2.patches[idx].set_edgecolor(LIGHT_RED)\n",
    "                    newStr = self.testString.format('',int(bar.get_height()),  event.x, event.y, )\n",
    "                    self.txt.set_text(newStr)\n",
    "            else: \n",
    "                self.ax2.patches[idx].set_edgecolor(self.ax2.patches[idx].get_facecolor())\n",
    "            \n",
    "        self.fig.canvas.draw()\n",
    "\n",
    "    def reset_button_on_clicked(self, mouse_event):\n",
    "\n",
    "        ## redraw axis 2\n",
    "        self.ax2.cla()\n",
    "        self.ax2.set_title('Selected duration', bbox=self.box)\n",
    "        self.ax2.bar(self.timeAxis, self.expense, width, color=RED)\n",
    "        self.ax2.bar(self.timeAxis, self.income, width, color=GREEN)\n",
    "        plt.setp( self.ax2.xaxis.get_majorticklabels(), rotation=LABEL_ROTATION )\n",
    "        self.ax2.xaxis.set_major_formatter(DATEFROMAT)\n",
    "        self.fig.canvas.draw()\n",
    "\n",
    "    def balanceView_button_on_clicked(self, mouse_event):\n",
    "        #print ('{} function is not implemented'.format(inspect.stack()[0][3]))\n",
    "        pass\n",
    "    def transView_button_on_clicked(self, mouse_event):\n",
    "        #print ('{} function is not implemented'.format(inspect.stack()[0][3]))\n",
    "        pass\n",
    "    def onselect(self, xmin, xmax):\n",
    "\n",
    "        dayMin, dayMax = sorted((int(xmin-0.5), int(xmax+0.5)))\n",
    "        ##xmin, xmax is days from zero, if Xaxis is pandas daterange\n",
    "\n",
    "        yearZero = datetime.datetime.strptime('0001/01/01', \"%Y/%m/%d\")\n",
    "        startDate = yearZero + timedelta(days=dayMin)\n",
    "        endDate = yearZero + timedelta(days=dayMax)\n",
    "        st=str(startDate)[:10]\n",
    "        nd=str(endDate)[:10]\n",
    "        stIdx, = np.where( self.timeAxis.values==np.datetime64(st) )\n",
    "        endIdx, = np.where( self.timeAxis.values==np.datetime64(nd) )\n",
    "        stIdx , endIdx = stIdx[0], endIdx[0]\n",
    "        zoomedTime = self.timeAxis[stIdx:endIdx]\n",
    "        zoomedCharges = self.expense[stIdx:endIdx]\n",
    "        zoomedSalary = self.income[stIdx:endIdx]\n",
    "        \n",
    "        self.ax2.cla()\n",
    "        self.ax2.set_title('Selected duration', bbox=self.box)\n",
    "        self.ax2.bar(zoomedTime, zoomedCharges, width, color=RED)\n",
    "        self.ax2.bar(zoomedTime, zoomedSalary , width, color=GREEN)\n",
    "        plt.setp( self.ax2.xaxis.get_majorticklabels(), rotation=LABEL_ROTATION )\n",
    "        self.ax2.xaxis.set_major_formatter(DATEFROMAT)\n",
    "        self.fig.canvas.draw()\n",
    "        \n",
    "    def makeButtons(self):\n",
    "\n",
    "        pos = self.ax4.get_position() # get the  position of axis ,which contains the buttons \n",
    "        rowNr, colNr = 1,3\n",
    "        buttonwidth = 0.1\n",
    "        buttonheight = 0.07\n",
    "        Vspace = (pos.width - colNr*buttonwidth)/(colNr+1)\n",
    "        Hspace = (pos.height - rowNr*buttonheight)/(rowNr+1)\n",
    "        \n",
    "        reset_button_ax = self.fig.add_axes([pos.x0+Vspace, pos.y0+Hspace, buttonwidth, buttonheight])\n",
    "        transactionViewButon_ax = self.fig.add_axes([pos.x0+2*Vspace+buttonwidth, pos.y0+Hspace, buttonwidth, buttonheight])\n",
    "        balanceViewButton_ax = self.fig.add_axes([pos.x0+3*Vspace+2*buttonwidth, pos.y0+Hspace, buttonwidth, buttonheight])\n",
    "\n",
    "        self.reset_button = Button(reset_button_ax, 'Reset', color=PURPLE, hovercolor=RED)\n",
    "        self.transactionViewButton = Button(transactionViewButon_ax, 'Transactions', color=PURPLE, hovercolor=RED)\n",
    "        self.balanceViewButton = Button(balanceViewButton_ax, 'Balance', color=PURPLE, hovercolor=RED)\n",
    "    \n",
    "    def connectButtons(self):\n",
    "\n",
    "        self.reset_button.on_clicked(self.reset_button_on_clicked)\n",
    "        self.transactionViewButton.on_clicked(self.transView_button_on_clicked)\n",
    "        self.balanceViewButton.on_clicked(self.balanceView_button_on_clicked)\n",
    "\n",
    "    \n",
    "    def showPlots(self, timeAxis, transactions):\n",
    "        self.timeAxis = timeAxis\n",
    "        self.income = transactions['income']\n",
    "        self.expense = transactions['expense']\n",
    "        self.createFigure()\n",
    "        self.drawAxes()\n",
    "\n",
    "        print ('{} function is called'.format(inspect.stack()[0][3]))\n",
    "        #self.fig.canvas.mpl_connect('motion_notify_event', self.on_plot_hover) \n",
    "        self.fig.subplots_adjust(left=0.06, bottom=0.07, right=0.97, top=0.95)\n",
    "        self.makeButtons()\n",
    "        self.connectButtons()\n",
    "        plt.setp( self.ax1.xaxis.get_majorticklabels(), rotation=LABEL_ROTATION )\n",
    "        plt.setp( self.ax2.xaxis.get_majorticklabels(), rotation=LABEL_ROTATION )\n",
    "        self.ax1.xaxis.set_major_formatter(DATEFROMAT)\n",
    "        self.ax2.xaxis.set_major_formatter(DATEFROMAT)\n",
    "        plt.show()"
   ]
  },
  {
   "cell_type": "code",
   "execution_count": null,
   "metadata": {
    "collapsed": false
   },
   "outputs": [],
   "source": [
    "# View test:\n",
    "rangeD=22\n",
    "datAxis = pd.date_range(\"1996-01-02\", periods=rangeD, freq='D')\n",
    "viewer = financeViewer()\n",
    "viewer.showPlots(datAxis ,{'expense':np.random.rand(rangeD),'income':np.random.rand(rangeD) })"
   ]
  },
  {
   "cell_type": "code",
   "execution_count": null,
   "metadata": {
    "collapsed": false
   },
   "outputs": [],
   "source": [
    "files =  [file for file in os.listdir() if file.lower().endswith('csv')]\n",
    "print (files)"
   ]
  },
  {
   "cell_type": "code",
   "execution_count": null,
   "metadata": {
    "collapsed": false
   },
   "outputs": [],
   "source": [
    "files =  [file for file in os.listdir() if file.lower().endswith('csv')]\n",
    "print (files)\n",
    "myOTP = otpParser(files)"
   ]
  },
  {
   "cell_type": "code",
   "execution_count": null,
   "metadata": {
    "collapsed": false
   },
   "outputs": [],
   "source": [
    "myOTP.createFigures()"
   ]
  },
  {
   "cell_type": "code",
   "execution_count": null,
   "metadata": {
    "collapsed": false
   },
   "outputs": [],
   "source": [
    "myOTP.printDf()"
   ]
  },
  {
   "cell_type": "code",
   "execution_count": null,
   "metadata": {
    "collapsed": true
   },
   "outputs": [],
   "source": []
  },
  {
   "cell_type": "code",
   "execution_count": null,
   "metadata": {
    "collapsed": true
   },
   "outputs": [],
   "source": []
  },
  {
   "cell_type": "code",
   "execution_count": null,
   "metadata": {
    "collapsed": false
   },
   "outputs": [],
   "source": [
    "dayMin, dayMax = 76555, 77545\n",
    "##xmin, xmax is days from zero, if Xaxis is pandas daterange\n",
    "print (10)\n",
    "yearZero = datetime.datetime.strptime('0001/01/01', \"%Y/%m/%d\")\n",
    "print (11)\n",
    "startDate = yearZero + timedelta(days=dayMin)\n",
    "endDate = yearZero + timedelta(days=dayMax)"
   ]
  },
  {
   "cell_type": "code",
   "execution_count": null,
   "metadata": {
    "collapsed": true
   },
   "outputs": [],
   "source": [
    "# dir(viewer.ax2.patches[0])"
   ]
  },
  {
   "cell_type": "code",
   "execution_count": 7,
   "metadata": {
    "collapsed": false
   },
   "outputs": [
    {
     "name": "stdout",
     "output_type": "stream",
     "text": [
      "0.0947580645161 0.788306451613\n",
      "0.399193548387 0.695564516129\n"
     ]
    }
   ],
   "source": [
    "def onselect(a,b):\n",
    "    print (a,b)\n",
    "fig = plt.figure()\n",
    "G_RAT = 1.601\n",
    "gsp = gridspec.GridSpec(\n",
    "        nrows = 3, ncols = 2, wspace = 0.1, hspace = 0.3,\n",
    "        width_ratios = [G_RAT, 1], height_ratios = [(1+G_RAT)/G_RAT, G_RAT, 1])\n",
    "\n",
    "ax1 = plt.subplot(gsp[0,:])\n",
    "#fig.autofmt_xdate()\n",
    "ax2 = plt.subplot(gsp[1:,0])\n",
    "#fig.autofmt_xdate()\n",
    "ax3 = plt.subplot(gsp[1,1])\n",
    "ax4 = plt.subplot(gsp[2,1])    \n",
    "rangeD=22\n",
    "datAxis = pd.date_range(\"1996-01-02\", periods=rangeD, freq='D')\n",
    "\n",
    "ax2.bar(datAxis, np.random.rand(rangeD))\n",
    "ax2.bar(datAxis, np.random.rand(rangeD))\n",
    "plt.setp( ax2.xaxis.get_majorticklabels(), rotation=45 )\n",
    "plt.setp( ax3.xaxis.get_majorticklabels(), rotation=45 )\n",
    "span = SpanSelector(ax1, onselect, 'horizontal', \n",
    "                    rectprops=dict(alpha=0.3, facecolor='red'))\n",
    "myFmt = mdates.DateFormatter('%Y-333%m')\n",
    "ax2.xaxis.set_major_formatter(myFmt)\n",
    "\n",
    "plt.show()"
   ]
  },
  {
   "cell_type": "code",
   "execution_count": null,
   "metadata": {
    "collapsed": false
   },
   "outputs": [],
   "source": [
    "#viewer=financeViewer(np.arange(20), np.random.rand(20), np.random.rand(20))"
   ]
  },
  {
   "cell_type": "code",
   "execution_count": null,
   "metadata": {
    "collapsed": false
   },
   "outputs": [],
   "source": [
    "viewer = financeViewer(np.arange(20), np.random.rand(20), np.random.rand(20))"
   ]
  },
  {
   "cell_type": "code",
   "execution_count": null,
   "metadata": {
    "collapsed": true
   },
   "outputs": [],
   "source": []
  },
  {
   "cell_type": "code",
   "execution_count": null,
   "metadata": {
    "collapsed": true
   },
   "outputs": [],
   "source": [
    "paelo=  otpParser(files)"
   ]
  },
  {
   "cell_type": "code",
   "execution_count": null,
   "metadata": {
    "collapsed": false
   },
   "outputs": [],
   "source": [
    "app = wx.App(False)\n",
    "frame = MyForm()\n",
    "frame.Show()\n",
    "app.MainLoop()"
   ]
  },
  {
   "cell_type": "code",
   "execution_count": null,
   "metadata": {
    "collapsed": false
   },
   "outputs": [],
   "source": [
    "import matplotlib.pyplot as plt\n",
    "import pandas as pd\n",
    "import numpy as np\n",
    "\n",
    "def onselect(xmin, xmax):\n",
    "    print (xmin, xmax)\n",
    "    start_date = '0001/01/01'\n",
    "    date_1 = datetime.datetime.strptime(start_date, \"%Y/%m/%d\")\n",
    "\n",
    "    end_date1 = date_1 + datetime.timedelta(days=xmin)\n",
    "    end_date2 = date_1 + datetime.timedelta(days=xmax)\n",
    "    print (end_date1, end_date2)\n",
    "timeAxis =  pd.date_range(\"1996-01-02\", periods=45, freq='D')\n",
    "fig, ax = plt.subplots()\n",
    "ax.bar(timeAxis, np.random.rand(len(timeAxis)))\n",
    "\n",
    "\n",
    "span = SpanSelector(ax, onselect, 'horizontal', \n",
    "                    rectprops=dict(alpha=0.3, facecolor=RED))\n",
    "        "
   ]
  },
  {
   "cell_type": "code",
   "execution_count": null,
   "metadata": {
    "collapsed": true
   },
   "outputs": [],
   "source": []
  },
  {
   "cell_type": "code",
   "execution_count": null,
   "metadata": {
    "collapsed": false
   },
   "outputs": [],
   "source": [
    "tt=myOTP.timeAxis\n",
    "tt"
   ]
  },
  {
   "cell_type": "code",
   "execution_count": null,
   "metadata": {
    "collapsed": false
   },
   "outputs": [],
   "source": [
    "vals=tt.values\n",
    "vals[:3]"
   ]
  },
  {
   "cell_type": "code",
   "execution_count": null,
   "metadata": {
    "collapsed": false
   },
   "outputs": [],
   "source": [
    "vals.index['2017-05-03T00:00:00.000000000']\n",
    "argmax(myArray)"
   ]
  },
  {
   "cell_type": "code",
   "execution_count": null,
   "metadata": {
    "collapsed": false
   },
   "outputs": [],
   "source": [
    "i, = np.where( tt.values==np.datetime64('2017-05-03') )\n",
    "i"
   ]
  },
  {
   "cell_type": "code",
   "execution_count": null,
   "metadata": {
    "collapsed": false
   },
   "outputs": [],
   "source": [
    "dayMin, dayMax = sorted((int(705343), int(734343)))\n",
    "##xmin, xmax is days from zero, if Xaxis is pandas daterange\n",
    "print (dayMin, dayMax)\n",
    "yearZero = datetime.datetime.strptime('0001/01/01', \"%Y/%m/%d\")\n",
    "\n",
    "startDate = yearZero + datetime.timedelta(days=dayMin)\n",
    "endDate = date_1 + datetime.timedelta(days=dayMax)\n",
    "print (startDate, endDate, type(startDate))\n",
    "ss=str(startDate)[:10]\n",
    "\n",
    "print (ss)\n",
    "# h=np.datetime64(startDate)\n",
    "# print (h, type(h))\n",
    "# k=[h,h,h,h]\n",
    "# print (k)"
   ]
  },
  {
   "cell_type": "code",
   "execution_count": null,
   "metadata": {
    "collapsed": true
   },
   "outputs": [],
   "source": []
  }
 ],
 "metadata": {
  "kernelspec": {
   "display_name": "Python 3",
   "language": "python",
   "name": "python3"
  },
  "language_info": {
   "codemirror_mode": {
    "name": "ipython",
    "version": 3
   },
   "file_extension": ".py",
   "mimetype": "text/x-python",
   "name": "python",
   "nbconvert_exporter": "python",
   "pygments_lexer": "ipython3",
   "version": "3.6.0"
  }
 },
 "nbformat": 4,
 "nbformat_minor": 2
}
